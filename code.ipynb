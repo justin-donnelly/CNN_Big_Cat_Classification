{
 "cells": [
  {
   "cell_type": "code",
   "execution_count": 1,
   "metadata": {},
   "outputs": [],
   "source": [
    "\n",
    "import numpy as np # linear algebra\n",
    "import pandas as pd # data processing, CSV file I/O (e.g. pd.read_csv)\n",
    "import matplotlib.pyplot as plt\n",
    "import matplotlib.image as mpimg\n",
    "import random\n",
    "import os\n",
    "import tensorflow as tf\n",
    "from tensorflow.keras.preprocessing.image import ImageDataGenerator\n",
    "from tensorflow.keras.models import Sequential\n",
    "from keras.preprocessing import image\n",
    "from keras.layers import Conv2D, MaxPooling2D, GlobalAveragePooling2D, Flatten, Dense, Dropout"
   ]
  },
  {
   "cell_type": "code",
   "execution_count": 2,
   "metadata": {},
   "outputs": [],
   "source": [
    "train_dir = \"C:/Users/Justin/.kaggle/input/train\"\n",
    "test_dir = \"C:/Users/Justin/.kaggle/input/test\""
   ]
  },
  {
   "cell_type": "code",
   "execution_count": 3,
   "metadata": {},
   "outputs": [
    {
     "name": "stdout",
     "output_type": "stream",
     "text": [
      "Found 2339 images belonging to 10 classes.\n",
      "Found 50 images belonging to 10 classes.\n"
     ]
    }
   ],
   "source": [
    "from tensorflow._api.v2.random import shuffle\n",
    "tf.random.set_seed(42)\n",
    "generator = ImageDataGenerator(rescale = 1./255.,\n",
    "                              horizontal_flip=True,\n",
    "                              vertical_flip=False,\n",
    "                              zoom_range=0.05,\n",
    "                              rotation_range=25)\n",
    "\n",
    "train_data = generator.flow_from_directory(train_dir,\n",
    "                                               batch_size=32, \n",
    "                                               target_size=(224, 224), \n",
    "                                               class_mode=\"categorical\", \n",
    "                                               seed=42)\n",
    "\n",
    "test_data = generator.flow_from_directory(test_dir,\n",
    "                                               batch_size=32,\n",
    "                                               target_size=(224, 224),\n",
    "                                               class_mode=\"categorical\",\n",
    "                                               shuffle=False,\n",
    "                                               seed=42)"
   ]
  },
  {
   "cell_type": "code",
   "execution_count": 4,
   "metadata": {},
   "outputs": [
    {
     "data": {
      "text/plain": [
       "['AFRICAN LEOPARD',\n",
       " 'CARACAL',\n",
       " 'CHEETAH',\n",
       " 'CLOUDED LEOPARD',\n",
       " 'JAGUAR',\n",
       " 'LIONS',\n",
       " 'OCELOT',\n",
       " 'PUMA',\n",
       " 'SNOW LEOPARD',\n",
       " 'TIGER']"
      ]
     },
     "execution_count": 4,
     "metadata": {},
     "output_type": "execute_result"
    }
   ],
   "source": [
    "label = [k for k in test_data.class_indices]\n",
    "label"
   ]
  },
  {
   "cell_type": "code",
   "execution_count": null,
   "metadata": {},
   "outputs": [],
   "source": []
  }
 ],
 "metadata": {
  "kernelspec": {
   "display_name": "dev",
   "language": "python",
   "name": "python3"
  },
  "language_info": {
   "codemirror_mode": {
    "name": "ipython",
    "version": 3
   },
   "file_extension": ".py",
   "mimetype": "text/x-python",
   "name": "python",
   "nbconvert_exporter": "python",
   "pygments_lexer": "ipython3",
   "version": "3.7.13"
  },
  "orig_nbformat": 4
 },
 "nbformat": 4,
 "nbformat_minor": 2
}
